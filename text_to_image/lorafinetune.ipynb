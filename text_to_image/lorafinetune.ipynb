{
 "cells": [
  {
   "cell_type": "code",
   "execution_count": null,
   "metadata": {},
   "outputs": [],
   "source": [
    "%pip install -r requirements.txt"
   ]
  },
  {
   "cell_type": "code",
   "execution_count": null,
   "metadata": {},
   "outputs": [],
   "source": [
    "%pip install wand wandb"
   ]
  },
  {
   "cell_type": "code",
   "execution_count": 2,
   "metadata": {},
   "outputs": [
    {
     "name": "stdout",
     "output_type": "stream",
     "text": [
      "Configuration already exists at C:\\Users\\vedan/.cache\\huggingface\\accelerate\\default_config.yaml, will not override. Run `accelerate config` manually or pass a different `save_location`.\n"
     ]
    }
   ],
   "source": [
    "!accelerate config default"
   ]
  },
  {
   "cell_type": "code",
   "execution_count": null,
   "metadata": {},
   "outputs": [],
   "source": [
    "%pip install --upgrade huggingface_hub"
   ]
  },
  {
   "cell_type": "code",
   "execution_count": 1,
   "metadata": {},
   "outputs": [],
   "source": [
    "import wandb\n",
    "import torch\n",
    "from diffusers import StableDiffusionPipeline, DPMSolverMultistepScheduler, AutoPipelineForText2Image\n",
    "from huggingface_hub import model_info"
   ]
  },
  {
   "cell_type": "markdown",
   "metadata": {},
   "source": [
    "# Set environment variables\n",
    "$env:MODEL_NAME = \"stabilityai/stable-diffusion-2-1\"\n",
    "$env:OUTPUT_DIR = \"FineTuneNarutoLora\"\n",
    "$env:HUB_MODEL_ID = \"naruto-lora-fine-tuned\"\n",
    "$env:DATASET_NAME = \"lambdalabs/naruto-blip-captions\"\n",
    "\n",
    "# Create the output directory\n",
    "New-Item -ItemType Directory -Force -Path $env:OUTPUT_DIR\n",
    "\n",
    "# Run the command\n",
    "accelerate launch --mixed_precision=\"bf16\" train_text_to_image_lora.py `\n",
    "  --pretrained_model_name_or_path=$env:MODEL_NAME `\n",
    "  --dataset_name=$env:DATASET_NAME `\n",
    "  --dataloader_num_workers=1 `\n",
    "  --resolution=512 `\n",
    "  --center_crop `\n",
    "  --random_flip `\n",
    "  --train_batch_size=1 `\n",
    "  --gradient_accumulation_steps=4 `\n",
    "  --max_train_steps=15000 `\n",
    "  --learning_rate=1e-04 `\n",
    "  --max_grad_norm=1 `\n",
    "  --lr_scheduler=\"cosine\" `\n",
    "  --lr_warmup_steps=0 `\n",
    "  --output_dir=$env:OUTPUT_DIR `\n",
    "  --checkpointing_steps=500 `\n",
    "  --caption_column=\"text\" `\n",
    "  --validation_prompt=\"A pokemon with blue eyes.\" `\n",
    "  --seed=1337"
   ]
  }
 ],
 "metadata": {
  "kernelspec": {
   "display_name": "Python 3",
   "language": "python",
   "name": "python3"
  },
  "language_info": {
   "codemirror_mode": {
    "name": "ipython",
    "version": 3
   },
   "file_extension": ".py",
   "mimetype": "text/x-python",
   "name": "python",
   "nbconvert_exporter": "python",
   "pygments_lexer": "ipython3",
   "version": "3.12.5"
  }
 },
 "nbformat": 4,
 "nbformat_minor": 2
}
